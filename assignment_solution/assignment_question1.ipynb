{
 "cells": [
  {
   "cell_type": "markdown",
   "metadata": {},
   "source": [
    "# Lesson 1.2: Python Basics\n",
    "## Topics Covered:\n",
    "- Syntax and Semantics\n",
    "- Variables and Data Types\n",
    "- Basic Operators (Arithmetic, Comparison, Logical)\n"
   ]
  },
  {
   "cell_type": "markdown",
   "metadata": {},
   "source": [
    "## 1. Syntax and Semantics\n",
    "\n",
    "**Question 1:** Write a Python program to print \"Hello, World!\"."
   ]
  },
  {
   "cell_type": "code",
   "execution_count": 1,
   "metadata": {},
   "outputs": [
    {
     "name": "stdout",
     "output_type": "stream",
     "text": [
      "Hello World\n"
     ]
    }
   ],
   "source": [
    "# Your code here\n",
    "print(\"Hello World\")"
   ]
  },
  {
   "cell_type": "markdown",
   "metadata": {},
   "source": [
    "**Question 2:** Write a Python program that takes a user input and prints it."
   ]
  },
  {
   "cell_type": "code",
   "execution_count": 2,
   "metadata": {},
   "outputs": [
    {
     "name": "stdout",
     "output_type": "stream",
     "text": [
      "15\n"
     ]
    }
   ],
   "source": [
    "# Your code here\n",
    "user_input = input(\"Please Enter Something : \")\n",
    "print(user_input)"
   ]
  },
  {
   "cell_type": "markdown",
   "metadata": {},
   "source": [
    "**Question 3:** Write a Python program to check if a number is positive, negative, or zero."
   ]
  },
  {
   "cell_type": "code",
   "execution_count": null,
   "metadata": {},
   "outputs": [
    {
     "name": "stdout",
     "output_type": "stream",
     "text": [
      "Number is negative -1\n"
     ]
    }
   ],
   "source": [
    "# Your code here\n",
    "user_input = float(input(\"Enter a number: \"))\n",
    "\n",
    "if user_input == 0:\n",
    "    print(\"Number is Zero\",user_input)\n",
    "elif user_input > 0:\n",
    "    print(\"Number is positive\",user_input)\n",
    "else:\n",
    "    print(\"Number is negative\",user_input)\n"
   ]
  },
  {
   "cell_type": "markdown",
   "metadata": {},
   "source": [
    "**Question 4:** Write a Python program to find the largest of three numbers."
   ]
  },
  {
   "cell_type": "code",
   "execution_count": 7,
   "metadata": {},
   "outputs": [
    {
     "name": "stdout",
     "output_type": "stream",
     "text": [
      "Largest is Num 3 8.0\n"
     ]
    }
   ],
   "source": [
    "# Your code here\n",
    "num1 = float(input(\"Enter a number 1: \"))\n",
    "num2 = float(input(\"Enter a number 2: \"))\n",
    "num3 = float(input(\"Enter a number 3: \"))\n",
    "\n",
    "if((num1 > num2) and (num1 > num3)):\n",
    "    print(\"Largest is Num 1\",num1)\n",
    "elif((num2 > num1)and(num2 > num3)):\n",
    "    print(\"Largest is Num 2\",num2)\n",
    "else:\n",
    "    print(\"Largest is Num 3\",num3)"
   ]
  },
  {
   "cell_type": "markdown",
   "metadata": {},
   "source": [
    "**Question 5:** Write a Python program to calculate the factorial of a number."
   ]
  },
  {
   "cell_type": "code",
   "execution_count": 1,
   "metadata": {},
   "outputs": [
    {
     "name": "stdout",
     "output_type": "stream",
     "text": [
      "The factorial of 5 is 120\n"
     ]
    }
   ],
   "source": [
    "# Your code here\n",
    "\n",
    "def factorial(n):\n",
    "    if n == 0:\n",
    "        return 1\n",
    "    else:\n",
    "        return n * factorial(n-1)\n",
    "\n",
    "num = int(input(\"Enter the number\"))\n",
    "print(f\"The factorial of {num} is {factorial(num)}\") \n"
   ]
  },
  {
   "cell_type": "markdown",
   "metadata": {},
   "source": [
    "## 2. Variables and Data Types\n",
    "\n",
    "**Question 6:** Create variables of different data types: integer, float, string, and boolean. Print their values and types."
   ]
  },
  {
   "cell_type": "code",
   "execution_count": 3,
   "metadata": {},
   "outputs": [
    {
     "name": "stdout",
     "output_type": "stream",
     "text": [
      "Inter value : 10, type <class 'int'>\n",
      "Float value : 11.5,type <class 'float'>\n",
      "String value : Hello,type <class 'str'>\n",
      "Boolean value : True,type <class 'bool'>\n",
      "\n"
     ]
    }
   ],
   "source": [
    "# Your code here\n",
    "integer_var = 10\n",
    "float_var = 11.5\n",
    "string_var = \"Hello\"\n",
    "bool_var = True\n",
    "\n",
    "print(f\"Inter value : {integer_var}, type {type(integer_var)}\")\n",
    "print(f\"Float value : {float_var},type {type(float_var)}\")\n",
    "print(f\"String value : {string_var},type {type(string_var)}\")\n",
    "print(f\"Boolean value : {bool_var},type {type(bool_var)}\")\n",
    "print(f\"\")"
   ]
  },
  {
   "cell_type": "markdown",
   "metadata": {},
   "source": [
    "**Question 7:** Write a Python program to swap the values of two variables."
   ]
  },
  {
   "cell_type": "code",
   "execution_count": 5,
   "metadata": {},
   "outputs": [
    {
     "name": "stdout",
     "output_type": "stream",
     "text": [
      "Number before swap 10 and 5\n",
      "Number after swap 5 and 10\n",
      "After swap: a = 10, b = 5\n"
     ]
    }
   ],
   "source": [
    "# Your code here\n",
    "a = 10\n",
    "b = 5\n",
    "\n",
    "print(f\"Number before swap {a} and {b}\")\n",
    "\n",
    "# solution 1\n",
    "temp = a\n",
    "a = b\n",
    "b = temp\n",
    "print(f\"Number after swap {a} and {b}\")\n",
    "# solution 2\n",
    "a,b = b,a\n",
    "print(f\"After swap: a = {a}, b = {b}\")\n",
    "\n"
   ]
  },
  {
   "cell_type": "markdown",
   "metadata": {},
   "source": [
    "**Question 8:** Write a Python program to convert Celsius to Fahrenheit."
   ]
  },
  {
   "cell_type": "code",
   "execution_count": 6,
   "metadata": {},
   "outputs": [
    {
     "name": "stdout",
     "output_type": "stream",
     "text": [
      "Temperature in Fahrenhiet 77.0\n"
     ]
    }
   ],
   "source": [
    "# Your code here\n",
    "celsius = float(input(\"Enter temperature in Celsius: \"))\n",
    "fahrenheit = (celsius * 9/5) + 32\n",
    "\n",
    "print(f\"Temperature in Fahrenhiet {fahrenheit}\")\n"
   ]
  },
  {
   "cell_type": "markdown",
   "metadata": {},
   "source": [
    "**Question 9:** Write a Python program to concatenate two strings."
   ]
  },
  {
   "cell_type": "code",
   "execution_count": 9,
   "metadata": {},
   "outputs": [
    {
     "name": "stdout",
     "output_type": "stream",
     "text": [
      "My name is Haris\n"
     ]
    }
   ],
   "source": [
    "# Your code here\n",
    "\n",
    "string1 = \"My name is \"\n",
    "string2 = \"Haris\"\n",
    "\n",
    "result = string1 + string2\n",
    "print(result)\n"
   ]
  },
  {
   "cell_type": "markdown",
   "metadata": {},
   "source": [
    "**Question 10:** Write a Python program to check if a variable is of a specific data type."
   ]
  },
  {
   "cell_type": "code",
   "execution_count": 12,
   "metadata": {},
   "outputs": [
    {
     "name": "stdout",
     "output_type": "stream",
     "text": [
      "True is bool\n"
     ]
    }
   ],
   "source": [
    "# Your code here\n",
    "var = True\n",
    "\n",
    "if isinstance(var, bool):\n",
    "    print(f\"{var} is bool\")\n",
    "else:\n",
    "    print(f\"{var} is not bool\")"
   ]
  },
  {
   "cell_type": "markdown",
   "metadata": {},
   "source": [
    "## 3. Basic Operators (Arithmetic, Comparison, Logical)\n",
    "\n",
    "**Question 11:** Write a Python program to perform arithmetic operations: addition, subtraction, multiplication, and division."
   ]
  },
  {
   "cell_type": "code",
   "execution_count": 13,
   "metadata": {},
   "outputs": [
    {
     "name": "stdout",
     "output_type": "stream",
     "text": [
      "Addition 45 + 7 = 52\n",
      "Subtraction 45 - 7 = 38\n",
      "Multipilication 45 * 7 = 315\n",
      "Division 45 / 7 = 6.428571428571429\n"
     ]
    }
   ],
   "source": [
    "# Your code here\n",
    "\n",
    "a = 45\n",
    "b = 7\n",
    "\n",
    "print(f\"Addition {a} + {b} = {a + b}\")\n",
    "print(f\"Subtraction {a} - {b} = {a - b}\")\n",
    "print(f\"Multipilication {a} * {b} = {a * b}\")\n",
    "print(f\"Division {a} / {b} = {a / b}\")"
   ]
  },
  {
   "cell_type": "markdown",
   "metadata": {},
   "source": [
    "**Question 12:** Write a Python program to demonstrate comparison operators: equal to, not equal to, greater than, less than."
   ]
  },
  {
   "cell_type": "code",
   "execution_count": 14,
   "metadata": {},
   "outputs": [
    {
     "name": "stdout",
     "output_type": "stream",
     "text": [
      "45 == 7 : False\n",
      "45 != 7 : True\n",
      "45 > 7 : True\n",
      "45 < 7 : False\n"
     ]
    }
   ],
   "source": [
    "# Your code here\n",
    "\n",
    "a = 45\n",
    "b = 7\n",
    "\n",
    "print(f\"{a} == {b} : {a == b}\")\n",
    "print(f\"{a} != {b} : {a != b}\")\n",
    "print(f\"{a} > {b} : {a > b}\")\n",
    "print(f\"{a} < {b} : {a < b}\")"
   ]
  },
  {
   "cell_type": "markdown",
   "metadata": {},
   "source": [
    "**Question 13:** Write a Python program to demonstrate logical operators: and, or, not."
   ]
  },
  {
   "cell_type": "code",
   "execution_count": 17,
   "metadata": {},
   "outputs": [
    {
     "name": "stdout",
     "output_type": "stream",
     "text": [
      "a and b : False\n",
      "a or b : True\n",
      "not ture : False\n"
     ]
    }
   ],
   "source": [
    "# Your code here\n",
    "a = True\n",
    "b = False\n",
    "\n",
    "print(f\"a and b : {a and b}\")\n",
    "print(f\"a or b : {a or b}\")\n",
    "print(f\"not ture : {not a}\")"
   ]
  },
  {
   "cell_type": "markdown",
   "metadata": {},
   "source": [
    "**Question 14:** Write a Python program to calculate the square of a number."
   ]
  },
  {
   "cell_type": "code",
   "execution_count": 19,
   "metadata": {},
   "outputs": [
    {
     "name": "stdout",
     "output_type": "stream",
     "text": [
      "The square of 15 is 225\n"
     ]
    }
   ],
   "source": [
    "# Your code here\n",
    "\n",
    "num = 15\n",
    "\n",
    "result = num ** 2\n",
    "\n",
    "print(f\"The square of {num} is {result}\")"
   ]
  },
  {
   "cell_type": "markdown",
   "metadata": {},
   "source": [
    "**Question 15:** Write a Python program to check if a number is even or odd."
   ]
  },
  {
   "cell_type": "code",
   "execution_count": 20,
   "metadata": {},
   "outputs": [
    {
     "name": "stdout",
     "output_type": "stream",
     "text": [
      "52 is even.\n"
     ]
    }
   ],
   "source": [
    "# Your code here\n",
    "# Solution\n",
    "num = int(input(\"Enter a number: \"))\n",
    "if num % 2 == 0:\n",
    "    print(f\"{num} is even.\")\n",
    "else:\n",
    "    print(f\"{num} is odd.\")"
   ]
  },
  {
   "cell_type": "markdown",
   "metadata": {},
   "source": [
    "**Question 16:** Write a Python program to find the sum of the first n natural numbers."
   ]
  },
  {
   "cell_type": "code",
   "execution_count": 21,
   "metadata": {},
   "outputs": [
    {
     "name": "stdout",
     "output_type": "stream",
     "text": [
      "The sum of the first 2 natural numbers is 3\n"
     ]
    }
   ],
   "source": [
    "# Your code here\n",
    "# Solution\n",
    "n = int(input(\"Enter a number: \"))\n",
    "sum_n = (n * (n + 1)) // 2\n",
    "print(f\"The sum of the first {n} natural numbers is {sum_n}\")"
   ]
  },
  {
   "cell_type": "markdown",
   "metadata": {},
   "source": [
    "**Question 17:** Write a Python program to check if a year is a leap year."
   ]
  },
  {
   "cell_type": "code",
   "execution_count": 25,
   "metadata": {},
   "outputs": [
    {
     "name": "stdout",
     "output_type": "stream",
     "text": [
      "2004 is a leap year.\n"
     ]
    }
   ],
   "source": [
    "# Your code here\n",
    "year = int(input(\"Enter a year: \"))\n",
    "if (year % 4 == 0 and year % 100 != 0) or (year % 400 == 0):\n",
    "    print(f\"{year} is a leap year.\")\n",
    "else:\n",
    "    print(f\"{year} is not a leap year.\")"
   ]
  },
  {
   "cell_type": "markdown",
   "metadata": {},
   "source": [
    "**Question 18:** Write a Python program to reverse a string."
   ]
  },
  {
   "cell_type": "code",
   "execution_count": 32,
   "metadata": {},
   "outputs": [
    {
     "name": "stdout",
     "output_type": "stream",
     "text": [
      "The reversed string is: my name is haris\n"
     ]
    }
   ],
   "source": [
    "# Your code here\n",
    "string = input(\"Enter a string: \")\n",
    "reversed_string = string[::-1]\n",
    "print(f\"The reversed string is: {reversed_string}\")"
   ]
  },
  {
   "cell_type": "markdown",
   "metadata": {},
   "source": [
    "**Question 19:** Write a Python program to check if a string is a palindrome."
   ]
  },
  {
   "cell_type": "code",
   "execution_count": null,
   "metadata": {},
   "outputs": [
    {
     "name": "stdout",
     "output_type": "stream",
     "text": [
      "String is not palindrome Level\n"
     ]
    }
   ],
   "source": [
    "# Your code here\n",
    "string = input(\"Enter is String\")\n",
    "\n",
    "if string == string[::-1]:\n",
    "    print(f\"String is palindrome {string}\")\n",
    "else:\n",
    "    print(f\"String is not palindrome {string}\")"
   ]
  },
  {
   "cell_type": "markdown",
   "metadata": {},
   "source": [
    "**Question 20:** Write a Python program to sort a list of numbers in ascending order."
   ]
  },
  {
   "cell_type": "code",
   "execution_count": 38,
   "metadata": {},
   "outputs": [
    {
     "name": "stdout",
     "output_type": "stream",
     "text": [
      "Sorted list: [2, 4, 5, 5, 6, 9]\n"
     ]
    }
   ],
   "source": [
    "# Your code here\n",
    "\n",
    "a = [ 2,4,8,6,1]\n",
    "\n",
    "numbers = [int(x) for x in input(\"Enter numbers separated by space: \").split()]\n",
    "numbers.sort()\n",
    "print(f\"Sorted list: {numbers}\") "
   ]
  }
 ],
 "metadata": {
  "kernelspec": {
   "display_name": "venv",
   "language": "python",
   "name": "python3"
  },
  "language_info": {
   "codemirror_mode": {
    "name": "ipython",
    "version": 3
   },
   "file_extension": ".py",
   "mimetype": "text/x-python",
   "name": "python",
   "nbconvert_exporter": "python",
   "pygments_lexer": "ipython3",
   "version": "3.12.9"
  }
 },
 "nbformat": 4,
 "nbformat_minor": 4
}
